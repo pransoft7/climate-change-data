{
 "cells": [
  {
   "cell_type": "code",
   "execution_count": null,
   "metadata": {},
   "outputs": [
    {
     "name": "stdout",
     "output_type": "stream",
     "text": [
      "Test\n"
     ]
    }
   ],
   "source": [
    "# Code to download data from IMD servers\n",
    "import imdlib as imd\n",
    "import pandas as pd\n",
    "\n",
    "print(\"Test\")\n",
    "\n",
    "start_yr = 1960\n",
    "end_yr = 2016\n",
    "variable = 'rain'\n",
    "data = imd.get_data(variable, start_yr, end_yr)"
   ]
  },
  {
   "cell_type": "code",
   "execution_count": null,
   "metadata": {},
   "outputs": [],
   "source": []
  },
  {
   "cell_type": "code",
   "execution_count": null,
   "metadata": {},
   "outputs": [],
   "source": [
    "# Code to compute climate indices\n",
    "var = 'rain'\n",
    "# Refer IMDLIB docs for explanation about indices (non-linear?)\n",
    "indices = ['mmk_hr', 'spr', 'sse']\n",
    "\n",
    "# Extract data for every climate index\n",
    "for ind in indices:\n",
    "    mydata = pd.read_csv(f'{ind}_cur.csv')\n",
    "\n",
    "    # Calculating for an interval of every 2 years (1960-1962, 1962-1964, ...)\n",
    "    for i in range(1960, 2017, 2):\n",
    "        imdobj = imd.open_data(var, i, i + 2)\n",
    "        mmk = imdobj.compute(ind, 'A')\n",
    "        mmk.to_csv(f'{ind}_cur.csv')\n",
    "        cur_data = pd.read_csv(f'{ind}_cur.csv')\n",
    "        mydata = pd.concat([mydata, cur_data])\n",
    "\n",
    "    mydata.to_csv(f'{ind}.csv')\n"
   ]
  },
  {
   "cell_type": "code",
   "execution_count": null,
   "metadata": {},
   "outputs": [],
   "source": [
    "# Code to compute climate indices\n",
    "indices_data = {}\n",
    "# (Linear indices?)\n",
    "indices = ['dr', 'cwd', 'd64', 'rtwd', 'rxa', 'rx5d', 'sdii', 'pci']\n",
    "# Extracting data for the above indices from start_yr to end_yr\n",
    "for i in indices:\n",
    "    my_data = imd.open_data('rain', 1960, 2016)\n",
    "    my_data.compute(i, 'A').to_csv(f'{i}.csv')\n"
   ]
  },
  {
   "cell_type": "code",
   "execution_count": null,
   "metadata": {},
   "outputs": [],
   "source": [
    "# Get location coordinates as a list\n",
    "locs_df = pd.read_csv('locations.csv')\n",
    "locs_bad = locs_df.values.tolist()\n",
    "locs = []\n",
    "for l in locs_bad:\n",
    "    locs.append([l[2],l[3]])\n",
    "locs"
   ]
  },
  {
   "cell_type": "code",
   "execution_count": 187,
   "metadata": {},
   "outputs": [],
   "source": [
    "# Code to filter data for the given location codes\n",
    "import collections\n",
    "\n",
    "indices = ['dr', 'cwd', 'd64', 'rtwd', 'rxa', 'rx5d', 'sdii', 'pci', 'mmk_hr', 'spr', 'sse']\n",
    "indices_data = collections.defaultdict(list)\n",
    "combined = collections.defaultdict(list)\n",
    "\n",
    "for i in indices:\n",
    "    cur_data = pd.read_csv(f'{i}.csv')\n",
    "    for lat, lon in locs:\n",
    "        indices_data[i].append(cur_data[(cur_data['lat'] == lat) & (cur_data['lon'] == lon)])\n",
    "\n",
    "    combined[i] = pd.concat(indices_data[i])\n",
    "    combined[i].to_csv(f'{i}_combined.csv')"
   ]
  }
 ],
 "metadata": {
  "kernelspec": {
   "display_name": "rainfall",
   "language": "python",
   "name": "python3"
  },
  "language_info": {
   "codemirror_mode": {
    "name": "ipython",
    "version": 3
   },
   "file_extension": ".py",
   "mimetype": "text/x-python",
   "name": "python",
   "nbconvert_exporter": "python",
   "pygments_lexer": "ipython3",
   "version": "3.13.2"
  }
 },
 "nbformat": 4,
 "nbformat_minor": 2
}
