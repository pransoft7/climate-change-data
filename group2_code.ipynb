{
 "cells": [
  {
   "cell_type": "code",
   "execution_count": null,
   "metadata": {},
   "outputs": [],
   "source": [
    "# Code to download data from IMD servers\n",
    "import imdlib as imd\n",
    "import pandas as pd\n",
    "\n",
    "start_yr = 1960\n",
    "end_yr = 2016\n",
    "variable = 'rain'\n",
    "data = imd.get_data(variable, start_yr, end_yr)"
   ]
  },
  {
   "cell_type": "code",
   "execution_count": null,
   "metadata": {},
   "outputs": [],
   "source": [
    "# Code to compute climate indices\n",
    "var = 'rain'\n",
    "indices = ['mmk_hr', 'spr', 'sse']\n",
    "\n",
    "for ind in indices:\n",
    "    mydata = pd.read_csv(f'{ind}_cur.csv')\n",
    "\n",
    "    for i in range(1960, 2017, 2):\n",
    "        imdobj = imd.open_data(var, i, i + 2)\n",
    "        mmk = imdobj.compute(ind, 'A')\n",
    "        mmk.to_csv(f'{ind}_cur.csv')\n",
    "        cur_data = pd.read_csv(f'{ind}_cur.csv')\n",
    "        mydata = pd.concat([mydata, cur_data])\n",
    "\n",
    "    mydata.to_csv(f'{ind}.csv')\n"
   ]
  },
  {
   "cell_type": "code",
   "execution_count": null,
   "metadata": {},
   "outputs": [],
   "source": [
    "# Code to compute climate indices\n",
    "indices_data = {}\n",
    "indices = ['dr', 'cwd', 'd64', 'rtwd', 'rxa', 'rx5d', 'sdii', 'pci']\n",
    "for i in indices:\n",
    "    my_data = imd.open_data('rain', 1960, 2016)\n",
    "    my_data.compute(i, 'A').to_csv(f'{i}.csv')\n"
   ]
  },
  {
   "cell_type": "code",
   "execution_count": null,
   "metadata": {},
   "outputs": [],
   "source": [
    "# Get location coordinates as a list\n",
    "locs_df = pd.read_csv('locations.csv')\n",
    "locs_bad = locs_df.values.tolist()\n",
    "locs = []\n",
    "for l in locs_bad:\n",
    "    locs.append([l[2],l[3]])\n",
    "locs"
   ]
  },
  {
   "cell_type": "code",
   "execution_count": 187,
   "metadata": {},
   "outputs": [],
   "source": [
    "# Code to filter data by location\n",
    "import collections\n",
    "\n",
    "indices = ['dr', 'cwd', 'd64', 'rtwd', 'rxa', 'rx5d', 'sdii', 'pci', 'mmk_hr', 'spr', 'sse']\n",
    "indices_data = collections.defaultdict(list)\n",
    "combined = collections.defaultdict(list)\n",
    "\n",
    "for i in indices:\n",
    "    cur_data = pd.read_csv(f'{i}.csv')\n",
    "    for lat, lon in locs:\n",
    "        indices_data[i].append(cur_data[(cur_data['lat'] == lat) & (cur_data['lon'] == lon)])\n",
    "\n",
    "    combined[i] = pd.concat(indices_data[i])\n",
    "    combined[i].to_csv(f'{i}_combined.csv')"
   ]
  }
 ],
 "metadata": {
  "kernelspec": {
   "display_name": "Python 3 (ipykernel)",
   "language": "python",
   "name": "python3"
  }
 },
 "nbformat": 4,
 "nbformat_minor": 2
}
