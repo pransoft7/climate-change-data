{
 "cells": [
  {
   "cell_type": "code",
   "execution_count": 17,
   "metadata": {},
   "outputs": [
    {
     "name": "stdout",
     "output_type": "stream",
     "text": [
      "Downloading: rain for year 2022\n",
      "Downloading: rain for year 2023\n",
      "Download Successful !!!\n"
     ]
    }
   ],
   "source": [
    "import imdlib as imd\n",
    "start_year, end_year = 2022, 2023\n",
    "\n",
    "var_type = 'rain'\n",
    "data = imd.get_data(var_type, start_year, end_year)"
   ]
  },
  {
   "cell_type": "code",
   "execution_count": null,
   "metadata": {},
   "outputs": [],
   "source": [
    "rain_data = imd.open_data(var_type, start_year, end_year)\n",
    "\n",
    "rx5d = rain_data.compute('rx5d', 'A')"
   ]
  },
  {
   "cell_type": "code",
   "execution_count": null,
   "metadata": {},
   "outputs": [
    {
     "name": "stdout",
     "output_type": "stream",
     "text": [
      "Latitude and Longitude are not given!!\n",
      "Converting 3D data to 2D data!!\n",
      "You should reconsider this operation!!\n"
     ]
    },
    {
     "name": "stderr",
     "output_type": "stream",
     "text": [
      "/Users/pranavaskumar/.venvs/rainfall/lib/python3.13/site-packages/imdlib/core.py:166: FutureWarning: 'A' is deprecated and will be removed in a future version, please use 'YE' instead.\n",
      "  time = pd.date_range(self.start_day, periods=self.data.shape[0], freq = 'A')\n"
     ]
    }
   ],
   "source": [
    "rx5d.to_csv(\"kundi.csv\")"
   ]
  }
 ],
 "metadata": {
  "kernelspec": {
   "display_name": "rainfall",
   "language": "python",
   "name": "python3"
  },
  "language_info": {
   "codemirror_mode": {
    "name": "ipython",
    "version": 3
   },
   "file_extension": ".py",
   "mimetype": "text/x-python",
   "name": "python",
   "nbconvert_exporter": "python",
   "pygments_lexer": "ipython3",
   "version": "3.13.2"
  }
 },
 "nbformat": 4,
 "nbformat_minor": 2
}
